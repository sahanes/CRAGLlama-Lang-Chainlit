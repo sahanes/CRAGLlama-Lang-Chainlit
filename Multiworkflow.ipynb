{
  "cells": [
    {
      "cell_type": "markdown",
      "metadata": {
        "id": "V49xq88kHXFi"
      },
      "source": [
        "# Libraries Required"
      ]
    },
    {
      "cell_type": "code",
      "execution_count": 7,
      "metadata": {
        "id": "C68FPnAHFMx1"
      },
      "outputs": [],
      "source": [
        "%%capture --no-stderr\n",
        "%pip install -U --quiet langchain-community langchain_openai tavily-python langgraph"
      ]
    },
    {
      "cell_type": "code",
      "execution_count": 6,
      "metadata": {},
      "outputs": [
        {
          "name": "stdout",
          "output_type": "stream",
          "text": [
            "/home/sahane/MultiAgent/maven-course-old/assignments/week_02/proposal_generation_agent\n"
          ]
        }
      ],
      "source": [
        "! pwd"
      ]
    },
    {
      "cell_type": "code",
      "execution_count": null,
      "metadata": {},
      "outputs": [],
      "source": []
    },
    {
      "cell_type": "code",
      "execution_count": 46,
      "metadata": {},
      "outputs": [],
      "source": [
        "! echo OPENAI_API_KEY= 'Your_OPENAI_API_KEY' > .env\n",
        "! echo TAVILY_API_KEY='YOUR_TAVILY_API_KEY' >> .env"
      ]
    },
    {
      "cell_type": "markdown",
      "metadata": {
        "id": "aZpX6wyeHzP6"
      },
      "source": [
        "# Setup Required APIs"
      ]
    },
    {
      "cell_type": "code",
      "execution_count": 3,
      "metadata": {
        "colab": {
          "base_uri": "https://localhost:8080/"
        },
        "id": "DCoYJaYJFks0",
        "outputId": "b45e0d78-9aaf-43d4-cd66-07f39ea75fed"
      },
      "outputs": [],
      "source": [
        "import getpass\n",
        "import os\n",
        "from dotenv import load_dotenv\n",
        "from langchain.llms import OpenAI\n",
        "\n",
        "\n",
        "# Load environment variables from .env file\n",
        "load_dotenv()\n",
        "# os.environ[\"LANGCHAIN_PROJECT\"] = \"LlamaIndexworkflow\"\n",
        "\n",
        "VERSION = '1.1_rc3'\n",
        "os.environ[\"LANGCHAIN_PROJECT\"] = os.getenv(\"LANGCHAIN_PROJECT\") + f\" - v. {VERSION}\""
      ]
    },
    {
      "cell_type": "code",
      "execution_count": 4,
      "metadata": {},
      "outputs": [],
      "source": [
        "LANGCHAIN_TRACING_V2=True\n",
        "LANGCHAIN_ENDPOINT=\"https://api.smith.langchain.com\"\n",
        "LANGCHAIN_API_KEY=os.getenv(\"LANGCHAIN_API_KEY\")\n",
        "LANGCHAIN_PROJECT=os.getenv(\"LANGCHAIN_PROJECT\")"
      ]
    },
    {
      "cell_type": "markdown",
      "metadata": {
        "id": "PJSZs2-bH-JN"
      },
      "source": [
        "# Imports"
      ]
    },
    {
      "cell_type": "code",
      "execution_count": 5,
      "metadata": {
        "id": "jF1eic7wH8sZ"
      },
      "outputs": [],
      "source": [
        "from typing import Literal\n",
        "from langchain_openai import ChatOpenAI\n",
        "from langchain_community.tools.tavily_search import TavilySearchResults\n",
        "from langgraph.checkpoint.memory import MemorySaver\n",
        "from langgraph.graph import END, START, StateGraph, MessagesState\n",
        "from langgraph.prebuilt import ToolNode\n",
        "from langchain_core.messages import HumanMessage, AIMessage\n",
        "from langchain.tools import tool\n"
      ]
    },
    {
      "cell_type": "code",
      "execution_count": null,
      "metadata": {},
      "outputs": [],
      "source": [
        "! pip install -r requirements.txt"
      ]
    },
    {
      "cell_type": "code",
      "execution_count": null,
      "metadata": {},
      "outputs": [],
      "source": [
        "#pip install arize-phoenix\n",
        "# python3 -m phoenix.server.main serve"
      ]
    },
    {
      "cell_type": "markdown",
      "metadata": {},
      "source": [
        "1."
      ]
    },
    {
      "cell_type": "code",
      "execution_count": null,
      "metadata": {},
      "outputs": [],
      "source": [
        "# ! pip install \"llama-index-core>=0.10.43\" \"openinference-instrumentation-llama-index>=2\" \"opentelemetry-proto>=1.12.0\" arize-phoenix-otel"
      ]
    },
    {
      "cell_type": "code",
      "execution_count": 72,
      "metadata": {},
      "outputs": [],
      "source": [
        "# PHOENIX_CLIENT_HEADERS='api_key=74761878030f5f87555:da7d543'\n",
        "# PHOENIX_COLLECTOR_ENDPOINT='https://app.phoenix.arize.com'"
      ]
    },
    {
      "cell_type": "markdown",
      "metadata": {},
      "source": [
        "Observability"
      ]
    },
    {
      "cell_type": "code",
      "execution_count": 89,
      "metadata": {},
      "outputs": [
        {
          "name": "stderr",
          "output_type": "stream",
          "text": [
            "Attempting to instrument while already instrumented\n"
          ]
        }
      ],
      "source": [
        "# from opentelemetry.sdk import trace as trace_sdk\n",
        "# from opentelemetry.sdk.trace.export import SimpleSpanProcessor\n",
        "# from opentelemetry.exporter.otlp.proto.http.trace_exporter import (\n",
        "#     OTLPSpanExporter as HTTPSpanExporter,\n",
        "# )\n",
        "# from openinference.instrumentation.llama_index import LlamaIndexInstrumentor\n",
        "\n",
        "\n",
        "# ## Add Phoenix API Key for tracing\n",
        "# PHOENIX_API_KEY = \"74761878030f5f87555:da7d543\"\n",
        "# os.environ[\"OTEL_EXPORTER_OTLP_HEADERS\"] = f\"api_key={PHOENIX_API_KEY}\"\n",
        "\n",
        "# os.environ[\"OTEL_EXPORTER_OTLP_HEADERS\"] = \"api_key=74761878030f5f87555:da7d543\"\n",
        "# os.environ[\"PHOENIX_CLIENT_HEADERS\"] = \"api_key=74761878030f5f87555:da7d543\"\n",
        "# os.environ[\"PHOENIX_COLLECTOR_ENDPOINT\"] = \"https://app.phoenix.arize.com\"\n",
        "  \n",
        "\n",
        "# # Add Phoenix\n",
        "# span_phoenix_processor = SimpleSpanProcessor(\n",
        "#     HTTPSpanExporter(endpoint=\"https://app.phoenix.arize.com/v1/traces\")\n",
        "# )\n",
        "\n",
        "# # Add them to the tracer\n",
        "# tracer_provider = trace_sdk.TracerProvider()\n",
        "# tracer_provider.add_span_processor(span_processor=span_phoenix_processor)\n",
        "\n",
        "# # Instrument the application\n",
        "# LlamaIndexInstrumentor().instrument(tracer_provider=tracer_provider)"
      ]
    },
    {
      "cell_type": "code",
      "execution_count": 13,
      "metadata": {},
      "outputs": [
        {
          "name": "stderr",
          "output_type": "stream",
          "text": [
            "Attempting to uninstrument while already uninstrumented\n"
          ]
        }
      ],
      "source": [
        "# from openinference.instrumentation.llama_index import LlamaIndexInstrumentor\n",
        "\n",
        "# # Uninstrument LlamaIndex to stop tracing\n",
        "# LlamaIndexInstrumentor().uninstrument()\n"
      ]
    },
    {
      "cell_type": "code",
      "execution_count": 26,
      "metadata": {},
      "outputs": [],
      "source": [
        "# conda update -n base -c defaults conda"
      ]
    },
    {
      "cell_type": "code",
      "execution_count": null,
      "metadata": {},
      "outputs": [],
      "source": [
        "# ! conda install -c conda-forge ipykernel --update-deps"
      ]
    },
    {
      "cell_type": "code",
      "execution_count": 8,
      "metadata": {},
      "outputs": [],
      "source": [
        "import nest_asyncio\n",
        "nest_asyncio.apply()"
      ]
    },
    {
      "cell_type": "code",
      "execution_count": 9,
      "metadata": {},
      "outputs": [],
      "source": [
        "import asyncio\n",
        "import importlib\n",
        "import sys\n",
        "sys.path.append('./assignments/week_02/proposal_generation_agent/')\n",
        "from workflowLlamaIndex.CRAGLlamaIndexWorkflow import CorrectiveRAGLlamIndexWorkflow\n",
        "# importlib.reload(workflowLlamaIndex.CRAGLlamaIndexWorkflow)\n",
        "from workflowLlamaIndex.CRAGLlamaIndexWorkflow import run_workflow"
      ]
    },
    {
      "cell_type": "code",
      "execution_count": 10,
      "metadata": {},
      "outputs": [
        {
          "name": "stdout",
          "output_type": "stream",
          "text": [
            "\n",
            "Workflow initialized.\n",
            "\n",
            "Workflow run completed.\n",
            "\n",
            "\n",
            "The main topics in the EU AI Act include the governance of AI systems, the development of digital skills, the evolving typology of AI value chains, potential amendments to regulations, promoting AI literacy and public awareness, facilitating the development of common criteria, cooperation with other Union institutions, and effective cooperation with third countries and international organizations.\n"
          ]
        }
      ],
      "source": [
        "import asyncio\n",
        "\n",
        "async def main():\n",
        "    return await run_workflow(\"what are the main topics in EU ACT?\")\n",
        "    # return await run_workflow(\"where the hallucination is more harmful?\")\n",
        "\n",
        "# Get the current event loop; if there isn't one, it will create a new one\n",
        "loop = asyncio.get_event_loop()\n",
        "\n",
        "# Check if the loop is already running\n",
        "if not loop.is_running():\n",
        "    response = loop.run_until_complete(main())\n",
        "else:\n",
        "    response = await main()  # This should be used in an async environment\n",
        "\n",
        "# If you're in a synchronous block and the loop is running, use create_task or ensure_future\n",
        "# response = asyncio.create_task(main())  # This will not block and will return a Future object\n",
        "\n",
        "print(response)"
      ]
    },
    {
      "cell_type": "code",
      "execution_count": 229,
      "metadata": {},
      "outputs": [],
      "source": [
        "# @tool\n",
        "# async def Llamarag(question: str) -> str:\n",
        "#     \"\"\" Only use this tool to retrieve research relevant information from the knowledge base.\"\"\"\n",
        "#     import asyncio   \n",
        "#     # Get the current event loop; if there isn't one, it will create a new one\n",
        "#     loop = asyncio.get_event_loop()\n",
        "#     async def main():\n",
        "#         response=await run_workflow(question)\n",
        "#         return response\n",
        "\n",
        "#     # Check if the loop is already running\n",
        "#     if not loop.is_running():\n",
        "#         return loop.run_until_complete(main())\n",
        "#     else:\n",
        "#         return main()  # This should be used in an async environment\n",
        "\n",
        "# # If you're in a synchronous block and the loop is running, use create_task or ensure_future\n",
        "# # response = asyncio.create_task(main())  # This will not block and will return a Future object"
      ]
    },
    {
      "cell_type": "code",
      "execution_count": 11,
      "metadata": {},
      "outputs": [],
      "source": [
        "from langchain.llms import OpenAI\n",
        "from langchain.tools import tool\n",
        "from langchain_core.messages import ToolMessage\n",
        "\n",
        "@tool\n",
        "async def Llamarag(question: str) -> str:\n",
        "    \"\"\"Retrieve information from the knowledge base ONLY if about EU ACT.\"\"\"\n",
        "    # response = \"Hallucinations are generally considered more harmful when they are associated with psychiatric illness or neurological conditions, as they can be symptoms of underlying health issues. In these cases, hallucinations can lead to distress, confusion, and impaired functioning. It is important to address hallucinations that are part of a psychiatric or neurological disorder promptly to prevent potential negative consequences.\"\n",
        "    response= await run_workflow(question)\n",
        "    # Ensure the response is wrapped in the framework's expected message format\n",
        "    return str(response)#{'messages' :[AIMessage(content=response)]}#FunctionMessage(content=str(response), name=\"Llamarag\")\n",
        "    # return FunctionMessage(content=str(response), last_message.additional_kwargs[\"function_call\"][\"name\"]\n"
      ]
    },
    {
      "cell_type": "code",
      "execution_count": 232,
      "metadata": {},
      "outputs": [],
      "source": [
        "# @tool\n",
        "# async def Llamarag(question: str) -> FunctionMessage:\n",
        "#     \"\"\"\n",
        "#     Only use this tool to retrieve research relevant information from the knowledge base.\n",
        "#     \"\"\"\n",
        "#     try:\n",
        "#         response = await run_workflow(question)\n",
        "#         response_content = str(response)\n",
        "#         return FunctionMessage(content=response_content, name=\"Llamarag\")\n",
        "#     except Exception as e:\n",
        "#         # Log the exception or handle it as required by your system's practices\n",
        "#         return FunctionMessage(content=f\"Error processing the request: {str(e)}\", name=\"Llamarag\")\n"
      ]
    },
    {
      "cell_type": "code",
      "execution_count": 12,
      "metadata": {},
      "outputs": [],
      "source": [
        "from langchain_core.messages import HumanMessage, AIMessage\n",
        "from langchain.schema import BaseMessage\n",
        "from typing import List, TypedDict, Literal"
      ]
    },
    {
      "cell_type": "code",
      "execution_count": 26,
      "metadata": {},
      "outputs": [],
      "source": [
        "# nest_asyncio.apply()"
      ]
    },
    {
      "cell_type": "markdown",
      "metadata": {
        "id": "4qixc19hICcG"
      },
      "source": [
        "# Agent Workflow Logic"
      ]
    },
    {
      "cell_type": "code",
      "execution_count": 13,
      "metadata": {},
      "outputs": [],
      "source": [
        "from langchain_core.utils.function_calling import convert_to_openai_function\n",
        "# from langgraph.prebuilt import ToolNode\n",
        "# from langgraph.graph import StateGraph, MessagesState, START, END\n",
        "# from langgraph.prebuilt import ToolNode\n",
        "from langchain_core.messages import HumanMessage, AIMessage\n",
        "from langchain_core.prompts import ChatPromptTemplate, MessagesPlaceholder\n",
        "\n",
        "# from langgraph.checkpoint.memory import MemorySaver"
      ]
    },
    {
      "cell_type": "code",
      "execution_count": 14,
      "metadata": {},
      "outputs": [],
      "source": [
        "class MessagesState(TypedDict):\n",
        "    messages: List[BaseMessage]"
      ]
    },
    {
      "cell_type": "code",
      "execution_count": 15,
      "metadata": {},
      "outputs": [],
      "source": [
        "# We need a custom state\n",
        "\n",
        "class SimpleAgentState(MessagesState):\n",
        "    \"\"\"Extends the default MessagesState to add a current answer type \n",
        "    to allow us to properly route the messages\"\"\"\n",
        "    response_type: str"
      ]
    },
    {
      "cell_type": "code",
      "execution_count": 35,
      "metadata": {},
      "outputs": [
        {
          "name": "stderr",
          "output_type": "stream",
          "text": [
            "/tmp/ipykernel_128246/3963357813.py:16: LangGraphDeprecationWarning: ToolExecutor is deprecated as of version 0.2.0 and will be removed in 0.3.0. Use langgraph.prebuilt.ToolNode instead.\n",
            "  tool_executor = ToolExecutor(tool_belt)\n"
          ]
        }
      ],
      "source": [
        "from langchain_openai import ChatOpenAI\n",
        "from langgraph.graph import StateGraph, START, END\n",
        "from langgraph.prebuilt import ToolNode\n",
        "from langgraph.checkpoint.memory import MemorySaver\n",
        "from langgraph.prebuilt import ToolExecutor, ToolInvocation\n",
        "import json\n",
        "\n",
        "########################################################\n",
        "# Setup the OpenAI model\n",
        "llm_chatbot = ChatOpenAI(model=\"gpt-4o-mini\", temperature=0)\n",
        "#------------------------------------------------------\n",
        "llm_retriever=ChatOpenAI(model='gpt-4o', temperature=0)\n",
        "# Define the tool and wrap it correctly\n",
        "tool_belt = [Llamarag]\n",
        "functions = [convert_to_openai_function(t) for t in tool_belt]\n",
        "tool_executor = ToolExecutor(tool_belt)\n",
        "\n",
        "#-----------------------------------------\n",
        "# retriever_tool_node = ToolNode(tool_belt)  # Ensure tools are correctly integrated\n",
        "\n",
        "# Bind tools to the model and the config\n",
        "# model = llm_retriever.bind_tools(tool_belt)  # Might need to convert or adapt tools\n",
        "# model = model.with_config(tags=[\"final_node\"])\n",
        "#-------------------------------------------------------------------\n",
        "#################################################################################\n",
        "# RUNNABLE CHAINS\n",
        "# Create our runnable chains, depending on the prompt we want to pass forward\n",
        "\n",
        "main_prompt = \"\"\"\n",
        "You are a helpful agent designed to help the user get the information they requested.\n",
        "\n",
        "You collaborate with another agent that retrieves the information for you about EU ACT.\n",
        "\n",
        "When a user asks you a question, you will forward the query to another agent. \n",
        "\n",
        "You will receive information from another agent with the results of their research\n",
        "into the user's query. Your task is to repeat it word by word to the user. \n",
        "Do not summarize the other agent's answer. \n",
        "\n",
        "You MUST cite your source documents.\n",
        "\n",
        "\"\"\"\n",
        "\n",
        "# Create a chain with the main prompt\n",
        "main_prompt_template = ChatPromptTemplate.from_messages(\n",
        "    [\n",
        "        (\n",
        "            \"system\", main_prompt\n",
        "        ),\n",
        "        MessagesPlaceholder(variable_name=\"messages\"),\n",
        "    ]\n",
        ")\n",
        "chat_runnable = main_prompt_template | llm_chatbot\n",
        "\n",
        "\n",
        "#################################################\n",
        "retriever_prompt = f\"\"\"\n",
        "You are a helpful and extremely thorough agent designed to help the user get useful information ONLY about \n",
        "EU AI Act: first regulation on artificial intelligence. You only provide information that you receive from Llamarag if \n",
        "it is about the main topics in the including harmonised rules for the development, placing on the market, and use of AI in the \n",
        "European Union, a focus on safety to promote trustworthy AI adoption while protecting health, safety, and fundamental rights, \n",
        "new requirements based on the risks associated with AI systems, prohibitions of certain artificial intelligence practices, and \n",
        "a risk-based approach where the severity of rules increases with the level of risk. If the questions are not about artificial intelligence, \n",
        "return \"no information found!\".\n",
        "\n",
        "ONLY consult with the the below tool(s) to and the information retrieved by the below tool(s) to construct your final answer. \n",
        "\n",
        "You have access to the following tool(s) ONLY to consult with:\n",
        "\n",
        "============================\n",
        "Llamarag\n",
        "============================\n",
        "\n",
        "YOUR TASK:\n",
        "\n",
        "When a user asks you a question, FIRST you search if it is about artificial intelligence. If so, wait for generated answer by Llamarag. \n",
        "\n",
        "If the generated response by Llamarag is helpful for to the user's question, you use the report to return back to the chatbot agent.\n",
        "\n",
        "You MUST ALWAYS cite your sources. \n",
        "\n",
        "When the user asks you for information that you don't have access to (or not about artifical intelligence), you MUST answer with: 'No information found!'.\n",
        "\"\"\"\n",
        "retriever_prompt_template = ChatPromptTemplate.from_messages(\n",
        "    [\n",
        "        \"system\", retriever_prompt,\n",
        "        MessagesPlaceholder(variable_name=\"messages\")\n",
        "\n",
        "    ]\n",
        "\n",
        ")\n",
        "\n",
        "retrievable_runnable=retriever_prompt_template | llm_retriever.bind_tools(tool_belt).with_config(tags=[\"final_node\"])\n",
        "\n",
        "#------------------------------------\n",
        "# We need a custom state\n",
        "\n",
        "class SimpleAgentState(MessagesState):\n",
        "    \"\"\"Extends the default MessagesState to add a current answer type \n",
        "    to allow us to properly route the messages\"\"\"\n",
        "    response_type: str \n",
        "\n",
        "#------------------------------------\n",
        "# Defining our nodes\n",
        "# ----------------------------------\n",
        "def chatbot(state: SimpleAgentState):\n",
        "    last_message = state['messages'][-1]\n",
        "    \n",
        "    if isinstance(last_message, HumanMessage):\n",
        "        response_type = 'user_query'\n",
        "    else:\n",
        "        response_type = 'agent_response'\n",
        "\n",
        "    invoke_input = {'messages': state['messages'], 'response_type': response_type}\n",
        "    response = chat_runnable.invoke(invoke_input)\n",
        "    \n",
        "    print()\n",
        "    print('response by chat_runnable agent node:\\n ', response)\n",
        "    print()\n",
        "\n",
        "    return {'messages': state['messages'] + [response], 'response_type': response_type}\n",
        "\n",
        "#--------------------------------------------\n",
        "def retriever(state: SimpleAgentState):\n",
        "    # Run a retrieval query on the conversation state\n",
        "    \n",
        "    \n",
        "    response=retrievable_runnable.invoke(state[\"messages\"])\n",
        "    \n",
        "    print(\"response by retriverable_runneble agent node:\\n \", response)\n",
        "    print()\n",
        "    # print('response by retreiver:', response)\n",
        "    # current_response_type=state['response_type']\n",
        "\n",
        "    output={\"messages\": state['messages']+[response], \"response_type\": 'agent_response'}\n",
        "    # print()\n",
        "    # print(\"response by retriverable_runneble agent node: \", output)\n",
        "    # print()\n",
        "\n",
        "    return output\n",
        "\n",
        "async def retriever_tool(state: SimpleAgentState):\n",
        "    last_message = state[\"messages\"][-1]\n",
        "    print('Here retriever_tool:', last_message)\n",
        "    if isinstance(last_message, AIMessage) and last_message.additional_kwargs:\n",
        "        tool_calls = last_message.additional_kwargs.get('tool_calls', [])\n",
        "        if tool_calls:\n",
        "            new_messages=[]\n",
        "            tool_call = tool_calls[0]\n",
        "            tool_name = tool_call['function']['name']\n",
        "            tool_arguments = json.loads(tool_call['function']['arguments'])\n",
        "            \n",
        "            action = ToolInvocation(\n",
        "                tool=tool_name,\n",
        "                tool_input=tool_arguments,\n",
        "            )\n",
        "\n",
        "            response = await tool_executor.ainvoke(action)\n",
        "            # function_message = FunctionMessage(content=str(response), name=action.tool)\n",
        "            # return {\"messages\": state[\"messages\"] + [function_message]}\n",
        "            # Create a ToolMessage for each tool call\n",
        "            tool_message = ToolMessage(\n",
        "                content=str(response),\n",
        "                tool_call_id=tool_call['id'],\n",
        "                name=tool_name\n",
        "            )\n",
        "            new_messages.append(tool_message)\n",
        "\n",
        "            return {\"messages\": state[\"messages\"] + new_messages}\n",
        "    \n",
        "    # If no tool call was found or executed, return the original state\n",
        "    return state\n",
        "###################################################################\n",
        "# Define the graph\n",
        "##################################################################\n",
        "\n",
        "\n",
        "def rout_query(state: MessagesState) -> Literal[\"tools\", \"end\"]:\n",
        "    response_type = state.get('response_type')\n",
        "\n",
        "    if response_type == 'user_query':\n",
        "        # Routing to the query retriever\n",
        "        return 'query'\n",
        "    else:\n",
        "        return \"end\"\n",
        "\n",
        "\n",
        "def route_tools(state: SimpleAgentState) -> Literal[\"tools\", \"success\", \"no_answer\"]:\n",
        "    if isinstance(state['messages'][-1], AIMessage):\n",
        "        ai_message = state['messages'][-1]\n",
        "        if ai_message.additional_kwargs.get('tool_calls'):\n",
        "            return \"tools\"\n",
        "        elif 'no information found' in ai_message.content.lower():\n",
        "            print('no information found!')\n",
        "            return \"no_answer\"\n",
        "        else:\n",
        "            return \"success\"\n",
        "    return \"success\"  # Default case if the last message is not an AIMessage\n",
        "\n",
        "########################################################################\n",
        "\n",
        "# # Compile the graph with a checkpointer for state persistence\n",
        "# # checkpointer = MemorySaver()\n",
        "# graph = workflow.compile()#checkpointer=checkpointer)\n",
        "workflow = StateGraph(SimpleAgentState)\n",
        "\n",
        "workflow.add_node(\"chatbot\", chatbot)\n",
        "workflow.add_node(\"retriever\", retriever)\n",
        "workflow.add_node(\"retriever_tools\", retriever_tool)\n",
        "\n",
        "workflow.add_edge(START, \"chatbot\")\n",
        "\n",
        "workflow.add_conditional_edges(\n",
        "    \"chatbot\",\n",
        "    rout_query,\n",
        "    {'query': \"retriever\", \"end\": END}\n",
        ")\n",
        "\n",
        "workflow.add_conditional_edges(\n",
        "    \"retriever\",\n",
        "    route_tools,\n",
        "    {\"tools\": \"retriever_tools\", \"success\": \"chatbot\", \"no_answer\": END},\n",
        ")\n",
        "\n",
        "workflow.add_edge(\"retriever_tools\", \"chatbot\")\n",
        "\n",
        "graph = workflow.compile()\n"
      ]
    },
    {
      "cell_type": "code",
      "execution_count": 36,
      "metadata": {},
      "outputs": [
        {
          "name": "stdout",
          "output_type": "stream",
          "text": [
            "\n",
            "response by chat_runnable agent node:\n",
            "  content='I will forward your query to another agent for more information. Please hold on for a moment. \\n\\n[Query forwarded to another agent.]' additional_kwargs={'refusal': None} response_metadata={'token_usage': {'completion_tokens': 27, 'prompt_tokens': 122, 'total_tokens': 149, 'completion_tokens_details': {'reasoning_tokens': 0}, 'prompt_tokens_details': {'cached_tokens': 0}}, 'model_name': 'gpt-4o-mini-2024-07-18', 'system_fingerprint': 'fp_f85bea6784', 'finish_reason': 'stop', 'logprobs': None} id='run-d3e9185d-3c04-4a45-872e-eb2dc296a3cf-0' usage_metadata={'input_tokens': 122, 'output_tokens': 27, 'total_tokens': 149}\n",
            "\n",
            "response by retriverable_runneble agent node:\n",
            "  content='' additional_kwargs={'tool_calls': [{'id': 'call_ktkegYndlBJxKsDtpRXCphmg', 'function': {'arguments': '{\"question\":\"when the hallucination by llm is more harmful?\"}', 'name': 'Llamarag'}, 'type': 'function'}], 'refusal': None} response_metadata={'token_usage': {'completion_tokens': 25, 'prompt_tokens': 402, 'total_tokens': 427, 'completion_tokens_details': {'reasoning_tokens': 0}, 'prompt_tokens_details': {'cached_tokens': 0}}, 'model_name': 'gpt-4o-2024-05-13', 'system_fingerprint': 'fp_5796ac6771', 'finish_reason': 'tool_calls', 'logprobs': None} id='run-a47aabd6-9b4f-400d-b0f8-d9138a8693fd-0' tool_calls=[{'name': 'Llamarag', 'args': {'question': 'when the hallucination by llm is more harmful?'}, 'id': 'call_ktkegYndlBJxKsDtpRXCphmg', 'type': 'tool_call'}] usage_metadata={'input_tokens': 402, 'output_tokens': 25, 'total_tokens': 427}\n",
            "\n",
            "Here retriever_tool: content='' additional_kwargs={'tool_calls': [{'id': 'call_ktkegYndlBJxKsDtpRXCphmg', 'function': {'arguments': '{\"question\":\"when the hallucination by llm is more harmful?\"}', 'name': 'Llamarag'}, 'type': 'function'}], 'refusal': None} response_metadata={'token_usage': {'completion_tokens': 25, 'prompt_tokens': 402, 'total_tokens': 427, 'completion_tokens_details': {'reasoning_tokens': 0}, 'prompt_tokens_details': {'cached_tokens': 0}}, 'model_name': 'gpt-4o-2024-05-13', 'system_fingerprint': 'fp_5796ac6771', 'finish_reason': 'tool_calls', 'logprobs': None} id='run-a47aabd6-9b4f-400d-b0f8-d9138a8693fd-0' tool_calls=[{'name': 'Llamarag', 'args': {'question': 'when the hallucination by llm is more harmful?'}, 'id': 'call_ktkegYndlBJxKsDtpRXCphmg', 'type': 'tool_call'}] usage_metadata={'input_tokens': 402, 'output_tokens': 25, 'total_tokens': 427}\n",
            "\n",
            "Workflow initialized.\n",
            "\n"
          ]
        },
        {
          "name": "stderr",
          "output_type": "stream",
          "text": [
            "/tmp/ipykernel_128246/3963357813.py:153: LangGraphDeprecationWarning: ToolInvocation is deprecated as of version 0.2.0 and will be removed in 0.3.0. Use langgraph.prebuilt.ToolNode instead.\n",
            "  action = ToolInvocation(\n"
          ]
        },
        {
          "name": "stdout",
          "output_type": "stream",
          "text": [
            "Workflow run completed.\n",
            "\n",
            "\n",
            "\n",
            "response by chat_runnable agent node:\n",
            "  content='Hallucinations by LLMs are more harmful when they lead to the spread of misinformation, expose confidential information, create unrealistic expectations about what LLMs can do, reinforce harmful stereotypes, or lead to unjust outcomes.' additional_kwargs={'refusal': None} response_metadata={'token_usage': {'completion_tokens': 44, 'prompt_tokens': 231, 'total_tokens': 275, 'completion_tokens_details': {'reasoning_tokens': 0}, 'prompt_tokens_details': {'cached_tokens': 0}}, 'model_name': 'gpt-4o-mini-2024-07-18', 'system_fingerprint': 'fp_f85bea6784', 'finish_reason': 'stop', 'logprobs': None} id='run-79e0d2f4-bfb9-470a-94c5-f769728b5c94-0' usage_metadata={'input_tokens': 231, 'output_tokens': 44, 'total_tokens': 275}\n",
            "\n"
          ]
        }
      ],
      "source": [
        "import asyncio\n",
        "\n",
        "# Assuming 'graph' is your defined graph\n",
        "async def run_graph():\n",
        "    result = await graph.ainvoke({\"messages\": [HumanMessage(content=\"when the hallucination by llm is more harmful?\")]})\n",
        "    # result = await graph.ainvoke({\"messages\": [HumanMessage(content=\"how is the weather?\")]})\n",
        "    return result\n",
        "\n",
        "# Run the async function\n",
        "sa = asyncio.run(run_graph())"
      ]
    },
    {
      "cell_type": "code",
      "execution_count": 37,
      "metadata": {},
      "outputs": [
        {
          "data": {
            "text/plain": [
              "{'messages': [HumanMessage(content='when the hallucination by llm is more harmful?', additional_kwargs={}, response_metadata={}),\n",
              "  AIMessage(content='I will forward your query to another agent for more information. Please hold on for a moment. \\n\\n[Query forwarded to another agent.]', additional_kwargs={'refusal': None}, response_metadata={'token_usage': {'completion_tokens': 27, 'prompt_tokens': 122, 'total_tokens': 149, 'completion_tokens_details': {'reasoning_tokens': 0}, 'prompt_tokens_details': {'cached_tokens': 0}}, 'model_name': 'gpt-4o-mini-2024-07-18', 'system_fingerprint': 'fp_f85bea6784', 'finish_reason': 'stop', 'logprobs': None}, id='run-d3e9185d-3c04-4a45-872e-eb2dc296a3cf-0', usage_metadata={'input_tokens': 122, 'output_tokens': 27, 'total_tokens': 149}),\n",
              "  AIMessage(content='', additional_kwargs={'tool_calls': [{'id': 'call_ktkegYndlBJxKsDtpRXCphmg', 'function': {'arguments': '{\"question\":\"when the hallucination by llm is more harmful?\"}', 'name': 'Llamarag'}, 'type': 'function'}], 'refusal': None}, response_metadata={'token_usage': {'completion_tokens': 25, 'prompt_tokens': 402, 'total_tokens': 427, 'completion_tokens_details': {'reasoning_tokens': 0}, 'prompt_tokens_details': {'cached_tokens': 0}}, 'model_name': 'gpt-4o-2024-05-13', 'system_fingerprint': 'fp_5796ac6771', 'finish_reason': 'tool_calls', 'logprobs': None}, id='run-a47aabd6-9b4f-400d-b0f8-d9138a8693fd-0', tool_calls=[{'name': 'Llamarag', 'args': {'question': 'when the hallucination by llm is more harmful?'}, 'id': 'call_ktkegYndlBJxKsDtpRXCphmg', 'type': 'tool_call'}], usage_metadata={'input_tokens': 402, 'output_tokens': 25, 'total_tokens': 427}),\n",
              "  ToolMessage(content='Hallucinations by LLMs are more harmful when they lead to the spread of misinformation, expose confidential information, create unrealistic expectations about what LLMs can do, reinforce harmful stereotypes, or lead to unjust outcomes.', name='Llamarag', tool_call_id='call_ktkegYndlBJxKsDtpRXCphmg'),\n",
              "  AIMessage(content='Hallucinations by LLMs are more harmful when they lead to the spread of misinformation, expose confidential information, create unrealistic expectations about what LLMs can do, reinforce harmful stereotypes, or lead to unjust outcomes.', additional_kwargs={'refusal': None}, response_metadata={'token_usage': {'completion_tokens': 44, 'prompt_tokens': 231, 'total_tokens': 275, 'completion_tokens_details': {'reasoning_tokens': 0}, 'prompt_tokens_details': {'cached_tokens': 0}}, 'model_name': 'gpt-4o-mini-2024-07-18', 'system_fingerprint': 'fp_f85bea6784', 'finish_reason': 'stop', 'logprobs': None}, id='run-79e0d2f4-bfb9-470a-94c5-f769728b5c94-0', usage_metadata={'input_tokens': 231, 'output_tokens': 44, 'total_tokens': 275})],\n",
              " 'response_type': 'agent_response'}"
            ]
          },
          "execution_count": 37,
          "metadata": {},
          "output_type": "execute_result"
        }
      ],
      "source": [
        "sa"
      ]
    },
    {
      "cell_type": "code",
      "execution_count": 38,
      "metadata": {},
      "outputs": [
        {
          "data": {
            "image/jpeg": "[encoded data removed]",
            "text/plain": [
              "<IPython.core.display.Image object>"
            ]
          },
          "metadata": {},
          "output_type": "display_data"
        }
      ],
      "source": [
        "from IPython.display import Image, display\n",
        "\n",
        "try:\n",
        "    display(Image(graph.get_graph().draw_mermaid_png()))\n",
        "except Exception:\n",
        "    # This requires some extra dependencies and is optional\n",
        "    pass"
      ]
    },
    {
      "cell_type": "code",
      "execution_count": 46,
      "metadata": {},
      "outputs": [
        {
          "name": "stdout",
          "output_type": "stream",
          "text": [
            "\n",
            "response by chat_runnable agent node:\n",
            "  content=\"I'm unable to provide real-time weather information. However, I can help you with other inquiries or information. Would you like to ask something else?\" additional_kwargs={'refusal': None} response_metadata={'token_usage': {'completion_tokens': 29, 'prompt_tokens': 118, 'total_tokens': 147, 'completion_tokens_details': {'reasoning_tokens': 0}, 'prompt_tokens_details': {'cached_tokens': 0}}, 'model_name': 'gpt-4o-mini-2024-07-18', 'system_fingerprint': 'fp_f85bea6784', 'finish_reason': 'stop', 'logprobs': None} id='run-2ff43930-d3e6-4cd3-9e7c-7a090e56d0ef-0' usage_metadata={'input_tokens': 118, 'output_tokens': 29, 'total_tokens': 147}\n",
            "\n",
            "response by retriverable_runneble agent node:\n",
            "  content='No information found!' additional_kwargs={'refusal': None} response_metadata={'token_usage': {'completion_tokens': 5, 'prompt_tokens': 400, 'total_tokens': 405, 'completion_tokens_details': {'reasoning_tokens': 0}, 'prompt_tokens_details': {'cached_tokens': 0}}, 'model_name': 'gpt-4o-2024-05-13', 'system_fingerprint': 'fp_5796ac6771', 'finish_reason': 'stop', 'logprobs': None} id='run-47ba6873-c88a-4d8e-a39d-df9b60c85292-0' usage_metadata={'input_tokens': 400, 'output_tokens': 5, 'total_tokens': 405}\n",
            "\n",
            "no information found!\n"
          ]
        }
      ],
      "source": [
        "# workflow.add_edge(\"tools\", 'agent')\n",
        "\n",
        "# Initialize memory to persist state between graph runs\n",
        "checkpointer = MemorySaver()\n",
        "\n",
        "# Finally, we compile it!\n",
        "# This compiles it into a LangChain Runnable,\n",
        "# meaning you can use it as you would any other runnable.\n",
        "# Note that we're (optionally) passing the memory when compiling the graph\n",
        "appgraph = workflow.compile(checkpointer=checkpointer)\n",
        "\n",
        "# Use the Runnable\n",
        "# final_state = app.invoke(\n",
        "#     {\"messages\": [HumanMessage(content=\"where the hallucination is more harmful?\")]},\n",
        "#     config={\"configurable\": {\"thread_id\": 42}}\n",
        "# )\n",
        "# final_state[\"messages\"][-1].content\n",
        "# where the hallucination is more harmful?//hold on! what areas exactly!//my confusion! what are these areas?my confusion! what are these areas?\n",
        "async def run_graph():\n",
        "    final_state = await appgraph.ainvoke(\n",
        "        {\"messages\": [HumanMessage(content=\"how is the weather in London?\")]}, \n",
        "    config={\"configurable\": {\"thread_id\": 42}}\n",
        "    )\n",
        "    return final_state['messages'][-1].content\n",
        "#  Get the current event loop; if there isn't one, it will create a new one\n",
        "loop = asyncio.get_event_loop()\n",
        "# Check if the loop is already running\n",
        "if not loop.is_running():\n",
        "    response = loop.run_until_complete(run_graph())\n",
        "else:\n",
        "    response = await run_graph() \n"
      ]
    },
    {
      "cell_type": "code",
      "execution_count": 42,
      "metadata": {},
      "outputs": [
        {
          "data": {
            "text/plain": [
              "'Hallucinations are generally considered more harmful when they are associated with pathological conditions such as psychosis.'"
            ]
          },
          "execution_count": 42,
          "metadata": {},
          "output_type": "execute_result"
        }
      ],
      "source": [
        "response"
      ]
    },
    {
      "cell_type": "code",
      "execution_count": null,
      "metadata": {},
      "outputs": [
        {
          "data": {
            "text/plain": [
              "'No information found!'"
            ]
          },
          "execution_count": 47,
          "metadata": {},
          "output_type": "execute_result"
        }
      ],
      "source": [
        "response"
      ]
    },
    {
      "cell_type": "code",
      "execution_count": 48,
      "metadata": {},
      "outputs": [
        {
          "name": "stdout",
          "output_type": "stream",
          "text": [
            "\n",
            "response by chat_runnable agent node:\n",
            "  content='I will forward your query to another agent for more information. Please hold on for a moment. \\n\\n[Query forwarded to another agent.]' additional_kwargs={'refusal': None} response_metadata={'token_usage': {'completion_tokens': 27, 'prompt_tokens': 119, 'total_tokens': 146, 'completion_tokens_details': {'reasoning_tokens': 0}, 'prompt_tokens_details': {'cached_tokens': 0}}, 'model_name': 'gpt-4o-mini-2024-07-18', 'system_fingerprint': 'fp_f85bea6784', 'finish_reason': 'stop', 'logprobs': None} id='run-cb4b48d8-908c-4bee-a9d8-8e7388371ba6-0' usage_metadata={'input_tokens': 119, 'output_tokens': 27, 'total_tokens': 146}\n",
            "\n",
            "response by retriverable_runneble agent node:\n",
            "  content='' additional_kwargs={'tool_calls': [{'id': 'call_0etMTEOJrgSf7UhBpbgL71Dh', 'function': {'arguments': '{\"question\":\"Where is hallucination more harmful in AI systems?\"}', 'name': 'Llamarag'}, 'type': 'function'}], 'refusal': None} response_metadata={'token_usage': {'completion_tokens': 24, 'prompt_tokens': 399, 'total_tokens': 423, 'completion_tokens_details': {'reasoning_tokens': 0}, 'prompt_tokens_details': {'cached_tokens': 0}}, 'model_name': 'gpt-4o-2024-05-13', 'system_fingerprint': 'fp_5796ac6771', 'finish_reason': 'tool_calls', 'logprobs': None} id='run-897108bf-7a26-48fc-8b1e-313802b72bb1-0' tool_calls=[{'name': 'Llamarag', 'args': {'question': 'Where is hallucination more harmful in AI systems?'}, 'id': 'call_0etMTEOJrgSf7UhBpbgL71Dh', 'type': 'tool_call'}] usage_metadata={'input_tokens': 399, 'output_tokens': 24, 'total_tokens': 423}\n",
            "\n",
            "Here retriever_tool: content='' additional_kwargs={'tool_calls': [{'id': 'call_0etMTEOJrgSf7UhBpbgL71Dh', 'function': {'arguments': '{\"question\":\"Where is hallucination more harmful in AI systems?\"}', 'name': 'Llamarag'}, 'type': 'function'}], 'refusal': None} response_metadata={'token_usage': {'completion_tokens': 24, 'prompt_tokens': 399, 'total_tokens': 423, 'completion_tokens_details': {'reasoning_tokens': 0}, 'prompt_tokens_details': {'cached_tokens': 0}}, 'model_name': 'gpt-4o-2024-05-13', 'system_fingerprint': 'fp_5796ac6771', 'finish_reason': 'tool_calls', 'logprobs': None} id='run-897108bf-7a26-48fc-8b1e-313802b72bb1-0' tool_calls=[{'name': 'Llamarag', 'args': {'question': 'Where is hallucination more harmful in AI systems?'}, 'id': 'call_0etMTEOJrgSf7UhBpbgL71Dh', 'type': 'tool_call'}] usage_metadata={'input_tokens': 399, 'output_tokens': 24, 'total_tokens': 423}\n"
          ]
        },
        {
          "name": "stderr",
          "output_type": "stream",
          "text": [
            "/tmp/ipykernel_128246/3963357813.py:153: LangGraphDeprecationWarning: ToolInvocation is deprecated as of version 0.2.0 and will be removed in 0.3.0. Use langgraph.prebuilt.ToolNode instead.\n",
            "  action = ToolInvocation(\n"
          ]
        },
        {
          "name": "stdout",
          "output_type": "stream",
          "text": [
            "\n",
            "Workflow initialized.\n",
            "\n",
            "Workflow run completed.\n",
            "\n",
            "\n",
            "\n",
            "response by chat_runnable agent node:\n",
            "  content='Hallucination is more harmful in AI systems when it leads to the spread of misinformation, especially in news-generating algorithms.' additional_kwargs={'refusal': None} response_metadata={'token_usage': {'completion_tokens': 25, 'prompt_tokens': 208, 'total_tokens': 233, 'completion_tokens_details': {'reasoning_tokens': 0}, 'prompt_tokens_details': {'cached_tokens': 0}}, 'model_name': 'gpt-4o-mini-2024-07-18', 'system_fingerprint': 'fp_f85bea6784', 'finish_reason': 'stop', 'logprobs': None} id='run-2c4f5d06-7da9-4de7-9a2f-891cab96c445-0' usage_metadata={'input_tokens': 208, 'output_tokens': 25, 'total_tokens': 233}\n",
            "\n",
            "Result: {'messages': [HumanMessage(content='where the hallucination is more harmful?', additional_kwargs={}, response_metadata={}), AIMessage(content='I will forward your query to another agent for more information. Please hold on for a moment. \\n\\n[Query forwarded to another agent.]', additional_kwargs={'refusal': None}, response_metadata={'token_usage': {'completion_tokens': 27, 'prompt_tokens': 119, 'total_tokens': 146, 'completion_tokens_details': {'reasoning_tokens': 0}, 'prompt_tokens_details': {'cached_tokens': 0}}, 'model_name': 'gpt-4o-mini-2024-07-18', 'system_fingerprint': 'fp_f85bea6784', 'finish_reason': 'stop', 'logprobs': None}, id='run-cb4b48d8-908c-4bee-a9d8-8e7388371ba6-0', usage_metadata={'input_tokens': 119, 'output_tokens': 27, 'total_tokens': 146}), AIMessage(content='', additional_kwargs={'tool_calls': [{'id': 'call_0etMTEOJrgSf7UhBpbgL71Dh', 'function': {'arguments': '{\"question\":\"Where is hallucination more harmful in AI systems?\"}', 'name': 'Llamarag'}, 'type': 'function'}], 'refusal': None}, response_metadata={'token_usage': {'completion_tokens': 24, 'prompt_tokens': 399, 'total_tokens': 423, 'completion_tokens_details': {'reasoning_tokens': 0}, 'prompt_tokens_details': {'cached_tokens': 0}}, 'model_name': 'gpt-4o-2024-05-13', 'system_fingerprint': 'fp_5796ac6771', 'finish_reason': 'tool_calls', 'logprobs': None}, id='run-897108bf-7a26-48fc-8b1e-313802b72bb1-0', tool_calls=[{'name': 'Llamarag', 'args': {'question': 'Where is hallucination more harmful in AI systems?'}, 'id': 'call_0etMTEOJrgSf7UhBpbgL71Dh', 'type': 'tool_call'}], usage_metadata={'input_tokens': 399, 'output_tokens': 24, 'total_tokens': 423}), ToolMessage(content='Hallucination is more harmful in AI systems when it leads to the spread of misinformation, especially in news-generating algorithms.', name='Llamarag', tool_call_id='call_0etMTEOJrgSf7UhBpbgL71Dh'), AIMessage(content='Hallucination is more harmful in AI systems when it leads to the spread of misinformation, especially in news-generating algorithms.', additional_kwargs={'refusal': None}, response_metadata={'token_usage': {'completion_tokens': 25, 'prompt_tokens': 208, 'total_tokens': 233, 'completion_tokens_details': {'reasoning_tokens': 0}, 'prompt_tokens_details': {'cached_tokens': 0}}, 'model_name': 'gpt-4o-mini-2024-07-18', 'system_fingerprint': 'fp_f85bea6784', 'finish_reason': 'stop', 'logprobs': None}, id='run-2c4f5d06-7da9-4de7-9a2f-891cab96c445-0', usage_metadata={'input_tokens': 208, 'output_tokens': 25, 'total_tokens': 233})], 'response_type': 'agent_response'}\n"
          ]
        }
      ],
      "source": [
        "# import nest_asyncio\n",
        "# nest_asyncio.apply()\n",
        "\n",
        "import asyncio\n",
        "# from langchain.schema import HumanMessage\n",
        "checkpointer = MemorySaver()\n",
        "LlamaLanggraph = workflow.compile(checkpointer=checkpointer)\n",
        "async def run_graph():\n",
        "    \n",
        "    config = {\n",
        "        \"configurable\": {\"thread_id\": \"1\"},\n",
        "        \"recursion_limit\": 50\n",
        "    }\n",
        "\n",
        "    input_prompt = \"\"\"where the hallucination is more harmful?\"\"\"\n",
        "    messages = [HumanMessage(content=input_prompt)]\n",
        "\n",
        "    result = await LlamaLanggraph.ainvoke(\n",
        "        {\"messages\": messages},\n",
        "        config\n",
        "    )\n",
        "    return result\n",
        "\n",
        "async def main():\n",
        "    try:\n",
        "        result = await run_graph()\n",
        "        print(\"Result:\", result)\n",
        "    except Exception as e:\n",
        "        print(f\"An error occurred: {e}\")\n",
        "        import traceback\n",
        "        traceback.print_exc()\n",
        "asyncio.run(main())"
      ]
    },
    {
      "cell_type": "code",
      "execution_count": 49,
      "metadata": {},
      "outputs": [
        {
          "data": {
            "image/jpeg": "[encoded data removed]",
            "text/plain": [
              "<IPython.core.display.Image object>"
            ]
          },
          "metadata": {},
          "output_type": "display_data"
        }
      ],
      "source": [
        "from IPython.display import Image, display\n",
        "\n",
        "try:\n",
        "    display(Image(LlamaLanggraph.get_graph().draw_mermaid_png()))\n",
        "except Exception:\n",
        "    # This requires some extra dependencies and is optional\n",
        "    pass"
      ]
    },
    {
      "cell_type": "markdown",
      "metadata": {},
      "source": [
        "Collaboration Graph"
      ]
    },
    {
      "cell_type": "code",
      "execution_count": 156,
      "metadata": {},
      "outputs": [],
      "source": [
        "import operator\n",
        "from typing import Annotated, Sequence\n",
        "from typing_extensions import TypedDict\n",
        "\n",
        "from langchain_openai import ChatOpenAI\n",
        "from langchain_core.messages import (\n",
        "    BaseMessage,\n",
        "    HumanMessage,\n",
        "    ToolMessage,\n",
        "    AIMessage,\n",
        ")\n",
        "\n",
        "\n",
        "\n",
        "\n",
        "# This defines the object that is passed between each node\n",
        "# in the graph. We will create different nodes for each agent and tool\n",
        "class AgentState(TypedDict):\n",
        "    messages: Annotated[Sequence[BaseMessage], operator.add]\n",
        "    sender: str"
      ]
    },
    {
      "cell_type": "code",
      "execution_count": null,
      "metadata": {},
      "outputs": [],
      "source": []
    },
    {
      "cell_type": "code",
      "execution_count": null,
      "metadata": {},
      "outputs": [],
      "source": [
        "    \n",
        "async def call_model(state):\n",
        "    messages = state[\"messages\"]\n",
        "    response = await model.ainvoke(messages)\n",
        "    return {\"messages\": [response]}\n",
        "\n",
        "\n",
        "async def call_tool(state):\n",
        "    last_message = state[\"messages\"][-1]\n",
        "\n",
        "    action = ToolInvocation(\n",
        "        tool=last_message.additional_kwargs[\"function_call\"][\"name\"],\n",
        "        tool_input=json.loads(\n",
        "            last_message.additional_kwargs[\"function_call\"][\"arguments\"]\n",
        "        ),\n",
        "    )\n",
        "    print()\n",
        "    print(last_message.additional_kwargs[\"function_call\"][\"name\"])\n",
        "    print()\n",
        "\n",
        "    response = await tool_executor.ainvoke(action)\n",
        "\n",
        "    function_message = FunctionMessage(content=str(response), name=action.tool)\n",
        "\n",
        "    return {\"messages\": [function_message]}\n",
        "\n",
        "\n",
        "###10. GRAPG CREATION WITH HELPFULNESS EVALUATION\n",
        "# should_continue CHECKS IF THE LAST MASSAGE IN THE STATE IS TO CONTINUE (additional_kwargs EXISTS) OR END.\n",
        "# THE add_conditional_edges() method IS ORIGINATED FROM THIS REPONSE, EITHER TRANSITION TO ACTION NODE OR END.\n",
        "\n",
        "\n",
        "def should_continue(state):\n",
        "    last_message = state[\"messages\"][-1]\n",
        "\n",
        "    if \"function_call\" not in last_message.additional_kwargs:\n",
        "        return \"end\"\n",
        "\n",
        "    return \"continue\"\n",
        "\n",
        "\n",
        "async def check_helpfulness(state):\n",
        "    initial_query = state[\"messages\"][0]\n",
        "    final_response = state[\"messages\"][-1]\n",
        "\n",
        "    # adding artificial_loop\n",
        "\n",
        "    if len(state[\"messages\"]) > 10:\n",
        "        return \"END\"\n",
        "\n",
        "    prompt_template = \"\"\"\\\n",
        "  Given an initial query and a final response, determine if the final response is extremely helpful or not. Please indicate helpfulness with a 'Y'\\\n",
        "  and unhelpfulness as an 'N'.\n",
        "\n",
        "  Initial Query:\n",
        "  {initial_query}\n",
        "\n",
        "  Final Response:\n",
        "  {final_response}\"\"\"\n",
        "\n",
        "    prompt_template = PromptTemplate.from_template(prompt_template)\n",
        "\n",
        "    helpfulness_check_model = ChatOpenAI(model=\"gpt-4\")\n",
        "\n",
        "    helpfulness_check_chain = (\n",
        "        prompt_template | helpfulness_check_model | StrOutputParser()\n",
        "    )\n",
        "\n",
        "    helpfulness_response = await helpfulness_check_chain.ainvoke(\n",
        "        {\"initial_query\": initial_query, \"final_response\": final_response}\n",
        "    )\n",
        "\n",
        "    if \"Y\" in helpfulness_response:\n",
        "        print(\"helpful!\")\n",
        "        return \"end\"\n",
        "\n",
        "    else:\n",
        "        print(\" Not helpful!!\")\n",
        "        return \"continue\"\n",
        "\n",
        "\n",
        "def dummy_node(state):\n",
        "    return\n",
        "\n",
        "\n",
        "### 11. SETTING THE GRAPH WORKFLOW:\n",
        "# 1. AN INSTANCE OF THE STATEGRAPH CREATED OF THE TYPE AgentState. THREE NODES ADDED TO THE GRAPH USING add_node() method:\n",
        "# 1.1 THE \"agent\" NODE IS ASSOCIATED WITH THE call_model FUNCTION.\n",
        "# 1.2 THE \"action\" NODE IS ASSOCIATED WITH THE call_tool FUNCTION.\n",
        "# 1.3 THE \"passthrough\" NODE IS A CUSTOM NODE THAT IS ASSOCIATED WITH CHECKING HELPFULNESS.\n",
        "# 1.5 THE CONDITIONAL EDGES\n",
        "# 1.5.1 BETWEEN agent NODE AND THE OTHER TWO NODES TO EITHER action NODE OR passthrough NODE\n",
        "# 1.5.2 BETWEEN passthrough NODE AND agen NODE OR END NODE.\n",
        "# 1.5.3 BETWEEN agent AND action NODES AS MODEL HAS ACCESS TO TOOLS FOR RESPONSE GENERATION.\n",
        "def get_state_update_bot():\n",
        "    workflow = StateGraph(AgentState)\n",
        "\n",
        "    workflow.add_node(\"agent\", call_model)  # agent node has access to llm\n",
        "    workflow.add_node(\"action\", call_tool)  # action node has access to tools\n",
        "    workflow.set_entry_point(\"agent\")\n",
        "    workflow.add_conditional_edges(\n",
        "        \"agent\",\n",
        "        should_continue,\n",
        "        {\n",
        "            \"continue\": \"action\",  # tools\n",
        "            \"end\": END,\n",
        "        },\n",
        "    )\n",
        "    workflow.add_edge(\"action\", \"agent\")  # tools\n",
        "    state_update_bot = workflow.compile()\n",
        "\n",
        "    return state_update_bot"
      ]
    },
    {
      "cell_type": "markdown",
      "metadata": {
        "id": "BKu2WStsIHAq"
      },
      "source": [
        "# Visualize Agent Workflow"
      ]
    },
    {
      "cell_type": "code",
      "execution_count": 170,
      "metadata": {
        "colab": {
          "base_uri": "https://localhost:8080/",
          "height": 266
        },
        "id": "UaA-vLYjGL36",
        "outputId": "4772ba33-e430-4ad4-cf61-2562c82d8485"
      },
      "outputs": [
        {
          "data": {
            "image/jpeg": "[encoded data removed]",
            "text/plain": [
              "<IPython.core.display.Image object>"
            ]
          },
          "metadata": {},
          "output_type": "display_data"
        }
      ],
      "source": [
        "from IPython.display import Image, display\n",
        "\n",
        "try:\n",
        "    display(Image(graph.get_graph(xray=True).draw_mermaid_png()))\n",
        "except Exception:\n",
        "    # This requires some extra dependencies and is optional\n",
        "    pass"
      ]
    },
    {
      "cell_type": "code",
      "execution_count": 171,
      "metadata": {},
      "outputs": [
        {
          "name": "stderr",
          "output_type": "stream",
          "text": [
            "/home/sahane/anaconda3/envs/aie3/lib/python3.11/site-packages/langgraph/utils/runnable.py:167: RuntimeWarning: coroutine 'RunnableBindingBase.ainvoke' was never awaited\n",
            "  ret = context.run(self.func, input, **kwargs)\n",
            "RuntimeWarning: Enable tracemalloc to get the object allocation traceback\n"
          ]
        },
        {
          "ename": "AttributeError",
          "evalue": "'FunctionMessage' object has no attribute 'tool_calls'",
          "output_type": "error",
          "traceback": [
            "\u001b[0;31m---------------------------------------------------------------------------\u001b[0m",
            "\u001b[0;31mAttributeError\u001b[0m                            Traceback (most recent call last)",
            "Cell \u001b[0;32mIn[171], line 11\u001b[0m\n\u001b[1;32m      7\u001b[0m input_prompt \u001b[38;5;241m=\u001b[39m \u001b[38;5;124m\"\"\"\u001b[39m\u001b[38;5;124m where the hallucination is more harmful?\u001b[39m\n\u001b[1;32m      8\u001b[0m \u001b[38;5;124m\"\"\"\u001b[39m\n\u001b[1;32m     10\u001b[0m \u001b[38;5;66;03m# Run the graph\u001b[39;00m\n\u001b[0;32m---> 11\u001b[0m \u001b[43mgraph\u001b[49m\u001b[38;5;241;43m.\u001b[39;49m\u001b[43minvoke\u001b[49m\u001b[43m(\u001b[49m\n\u001b[1;32m     12\u001b[0m \u001b[43m    \u001b[49m\u001b[43m{\u001b[49m\u001b[38;5;124;43m\"\u001b[39;49m\u001b[38;5;124;43mmessages\u001b[39;49m\u001b[38;5;124;43m\"\u001b[39;49m\u001b[43m:\u001b[49m\u001b[43m \u001b[49m\u001b[43m[\u001b[49m\u001b[43mHumanMessage\u001b[49m\u001b[43m(\u001b[49m\u001b[43mcontent\u001b[49m\u001b[38;5;241;43m=\u001b[39;49m\u001b[43minput_prompt\u001b[49m\u001b[43m)\u001b[49m\u001b[43m]\u001b[49m\u001b[43m}\u001b[49m\u001b[43m,\u001b[49m\u001b[43m \u001b[49m\u001b[43mconfig\u001b[49m\u001b[43m)\u001b[49m\n",
            "File \u001b[0;32m~/anaconda3/envs/aie3/lib/python3.11/site-packages/langgraph/pregel/__init__.py:1551\u001b[0m, in \u001b[0;36mPregel.invoke\u001b[0;34m(self, input, config, stream_mode, output_keys, interrupt_before, interrupt_after, debug, **kwargs)\u001b[0m\n\u001b[1;32m   1549\u001b[0m \u001b[38;5;28;01melse\u001b[39;00m:\n\u001b[1;32m   1550\u001b[0m     chunks \u001b[38;5;241m=\u001b[39m []\n\u001b[0;32m-> 1551\u001b[0m \u001b[43m\u001b[49m\u001b[38;5;28;43;01mfor\u001b[39;49;00m\u001b[43m \u001b[49m\u001b[43mchunk\u001b[49m\u001b[43m \u001b[49m\u001b[38;5;129;43;01min\u001b[39;49;00m\u001b[43m \u001b[49m\u001b[38;5;28;43mself\u001b[39;49m\u001b[38;5;241;43m.\u001b[39;49m\u001b[43mstream\u001b[49m\u001b[43m(\u001b[49m\n\u001b[1;32m   1552\u001b[0m \u001b[43m    \u001b[49m\u001b[38;5;28;43minput\u001b[39;49m\u001b[43m,\u001b[49m\n\u001b[1;32m   1553\u001b[0m \u001b[43m    \u001b[49m\u001b[43mconfig\u001b[49m\u001b[43m,\u001b[49m\n\u001b[1;32m   1554\u001b[0m \u001b[43m    \u001b[49m\u001b[43mstream_mode\u001b[49m\u001b[38;5;241;43m=\u001b[39;49m\u001b[43mstream_mode\u001b[49m\u001b[43m,\u001b[49m\n\u001b[1;32m   1555\u001b[0m \u001b[43m    \u001b[49m\u001b[43moutput_keys\u001b[49m\u001b[38;5;241;43m=\u001b[39;49m\u001b[43moutput_keys\u001b[49m\u001b[43m,\u001b[49m\n\u001b[1;32m   1556\u001b[0m \u001b[43m    \u001b[49m\u001b[43minterrupt_before\u001b[49m\u001b[38;5;241;43m=\u001b[39;49m\u001b[43minterrupt_before\u001b[49m\u001b[43m,\u001b[49m\n\u001b[1;32m   1557\u001b[0m \u001b[43m    \u001b[49m\u001b[43minterrupt_after\u001b[49m\u001b[38;5;241;43m=\u001b[39;49m\u001b[43minterrupt_after\u001b[49m\u001b[43m,\u001b[49m\n\u001b[1;32m   1558\u001b[0m \u001b[43m    \u001b[49m\u001b[43mdebug\u001b[49m\u001b[38;5;241;43m=\u001b[39;49m\u001b[43mdebug\u001b[49m\u001b[43m,\u001b[49m\n\u001b[1;32m   1559\u001b[0m \u001b[43m    \u001b[49m\u001b[38;5;241;43m*\u001b[39;49m\u001b[38;5;241;43m*\u001b[39;49m\u001b[43mkwargs\u001b[49m\u001b[43m,\u001b[49m\n\u001b[1;32m   1560\u001b[0m \u001b[43m\u001b[49m\u001b[43m)\u001b[49m\u001b[43m:\u001b[49m\n\u001b[1;32m   1561\u001b[0m \u001b[43m    \u001b[49m\u001b[38;5;28;43;01mif\u001b[39;49;00m\u001b[43m \u001b[49m\u001b[43mstream_mode\u001b[49m\u001b[43m \u001b[49m\u001b[38;5;241;43m==\u001b[39;49m\u001b[43m \u001b[49m\u001b[38;5;124;43m\"\u001b[39;49m\u001b[38;5;124;43mvalues\u001b[39;49m\u001b[38;5;124;43m\"\u001b[39;49m\u001b[43m:\u001b[49m\n\u001b[1;32m   1562\u001b[0m \u001b[43m        \u001b[49m\u001b[43mlatest\u001b[49m\u001b[43m \u001b[49m\u001b[38;5;241;43m=\u001b[39;49m\u001b[43m \u001b[49m\u001b[43mchunk\u001b[49m\n",
            "File \u001b[0;32m~/anaconda3/envs/aie3/lib/python3.11/site-packages/langgraph/pregel/__init__.py:1290\u001b[0m, in \u001b[0;36mPregel.stream\u001b[0;34m(self, input, config, stream_mode, output_keys, interrupt_before, interrupt_after, debug, subgraphs)\u001b[0m\n\u001b[1;32m   1279\u001b[0m     \u001b[38;5;66;03m# Similarly to Bulk Synchronous Parallel / Pregel model\u001b[39;00m\n\u001b[1;32m   1280\u001b[0m     \u001b[38;5;66;03m# computation proceeds in steps, while there are channel updates\u001b[39;00m\n\u001b[1;32m   1281\u001b[0m     \u001b[38;5;66;03m# channel updates from step N are only visible in step N+1\u001b[39;00m\n\u001b[1;32m   1282\u001b[0m     \u001b[38;5;66;03m# channels are guaranteed to be immutable for the duration of the step,\u001b[39;00m\n\u001b[1;32m   1283\u001b[0m     \u001b[38;5;66;03m# with channel updates applied only at the transition between steps\u001b[39;00m\n\u001b[1;32m   1284\u001b[0m     \u001b[38;5;28;01mwhile\u001b[39;00m loop\u001b[38;5;241m.\u001b[39mtick(\n\u001b[1;32m   1285\u001b[0m         input_keys\u001b[38;5;241m=\u001b[39m\u001b[38;5;28mself\u001b[39m\u001b[38;5;241m.\u001b[39minput_channels,\n\u001b[1;32m   1286\u001b[0m         interrupt_before\u001b[38;5;241m=\u001b[39minterrupt_before_,\n\u001b[1;32m   1287\u001b[0m         interrupt_after\u001b[38;5;241m=\u001b[39minterrupt_after_,\n\u001b[1;32m   1288\u001b[0m         manager\u001b[38;5;241m=\u001b[39mrun_manager,\n\u001b[1;32m   1289\u001b[0m     ):\n\u001b[0;32m-> 1290\u001b[0m \u001b[43m        \u001b[49m\u001b[38;5;28;43;01mfor\u001b[39;49;00m\u001b[43m \u001b[49m\u001b[43m_\u001b[49m\u001b[43m \u001b[49m\u001b[38;5;129;43;01min\u001b[39;49;00m\u001b[43m \u001b[49m\u001b[43mrunner\u001b[49m\u001b[38;5;241;43m.\u001b[39;49m\u001b[43mtick\u001b[49m\u001b[43m(\u001b[49m\n\u001b[1;32m   1291\u001b[0m \u001b[43m            \u001b[49m\u001b[43mloop\u001b[49m\u001b[38;5;241;43m.\u001b[39;49m\u001b[43mtasks\u001b[49m\u001b[38;5;241;43m.\u001b[39;49m\u001b[43mvalues\u001b[49m\u001b[43m(\u001b[49m\u001b[43m)\u001b[49m\u001b[43m,\u001b[49m\n\u001b[1;32m   1292\u001b[0m \u001b[43m            \u001b[49m\u001b[43mtimeout\u001b[49m\u001b[38;5;241;43m=\u001b[39;49m\u001b[38;5;28;43mself\u001b[39;49m\u001b[38;5;241;43m.\u001b[39;49m\u001b[43mstep_timeout\u001b[49m\u001b[43m,\u001b[49m\n\u001b[1;32m   1293\u001b[0m \u001b[43m            \u001b[49m\u001b[43mretry_policy\u001b[49m\u001b[38;5;241;43m=\u001b[39;49m\u001b[38;5;28;43mself\u001b[39;49m\u001b[38;5;241;43m.\u001b[39;49m\u001b[43mretry_policy\u001b[49m\u001b[43m,\u001b[49m\n\u001b[1;32m   1294\u001b[0m \u001b[43m            \u001b[49m\u001b[43mget_waiter\u001b[49m\u001b[38;5;241;43m=\u001b[39;49m\u001b[43mget_waiter\u001b[49m\u001b[43m,\u001b[49m\n\u001b[1;32m   1295\u001b[0m \u001b[43m        \u001b[49m\u001b[43m)\u001b[49m\u001b[43m:\u001b[49m\n\u001b[1;32m   1296\u001b[0m \u001b[43m            \u001b[49m\u001b[38;5;66;43;03m# emit output\u001b[39;49;00m\n\u001b[1;32m   1297\u001b[0m \u001b[43m            \u001b[49m\u001b[38;5;28;43;01myield from\u001b[39;49;00m\u001b[43m \u001b[49m\u001b[43moutput\u001b[49m\u001b[43m(\u001b[49m\u001b[43m)\u001b[49m\n\u001b[1;32m   1298\u001b[0m \u001b[38;5;66;03m# emit output\u001b[39;00m\n",
            "File \u001b[0;32m~/anaconda3/envs/aie3/lib/python3.11/site-packages/langgraph/pregel/runner.py:56\u001b[0m, in \u001b[0;36mPregelRunner.tick\u001b[0;34m(self, tasks, reraise, timeout, retry_policy, get_waiter)\u001b[0m\n\u001b[1;32m     54\u001b[0m t \u001b[38;5;241m=\u001b[39m tasks[\u001b[38;5;241m0\u001b[39m]\n\u001b[1;32m     55\u001b[0m \u001b[38;5;28;01mtry\u001b[39;00m:\n\u001b[0;32m---> 56\u001b[0m     \u001b[43mrun_with_retry\u001b[49m\u001b[43m(\u001b[49m\u001b[43mt\u001b[49m\u001b[43m,\u001b[49m\u001b[43m \u001b[49m\u001b[43mretry_policy\u001b[49m\u001b[43m)\u001b[49m\n\u001b[1;32m     57\u001b[0m     \u001b[38;5;28mself\u001b[39m\u001b[38;5;241m.\u001b[39mcommit(t, \u001b[38;5;28;01mNone\u001b[39;00m)\n\u001b[1;32m     58\u001b[0m \u001b[38;5;28;01mexcept\u001b[39;00m \u001b[38;5;167;01mException\u001b[39;00m \u001b[38;5;28;01mas\u001b[39;00m exc:\n",
            "File \u001b[0;32m~/anaconda3/envs/aie3/lib/python3.11/site-packages/langgraph/pregel/retry.py:29\u001b[0m, in \u001b[0;36mrun_with_retry\u001b[0;34m(task, retry_policy)\u001b[0m\n\u001b[1;32m     27\u001b[0m task\u001b[38;5;241m.\u001b[39mwrites\u001b[38;5;241m.\u001b[39mclear()\n\u001b[1;32m     28\u001b[0m \u001b[38;5;66;03m# run the task\u001b[39;00m\n\u001b[0;32m---> 29\u001b[0m \u001b[43mtask\u001b[49m\u001b[38;5;241;43m.\u001b[39;49m\u001b[43mproc\u001b[49m\u001b[38;5;241;43m.\u001b[39;49m\u001b[43minvoke\u001b[49m\u001b[43m(\u001b[49m\u001b[43mtask\u001b[49m\u001b[38;5;241;43m.\u001b[39;49m\u001b[43minput\u001b[49m\u001b[43m,\u001b[49m\u001b[43m \u001b[49m\u001b[43mconfig\u001b[49m\u001b[43m)\u001b[49m\n\u001b[1;32m     30\u001b[0m \u001b[38;5;66;03m# if successful, end\u001b[39;00m\n\u001b[1;32m     31\u001b[0m \u001b[38;5;28;01mbreak\u001b[39;00m\n",
            "File \u001b[0;32m~/anaconda3/envs/aie3/lib/python3.11/site-packages/langgraph/utils/runnable.py:387\u001b[0m, in \u001b[0;36mRunnableSeq.invoke\u001b[0;34m(self, input, config, **kwargs)\u001b[0m\n\u001b[1;32m    385\u001b[0m             \u001b[38;5;28minput\u001b[39m \u001b[38;5;241m=\u001b[39m context\u001b[38;5;241m.\u001b[39mrun(step\u001b[38;5;241m.\u001b[39minvoke, \u001b[38;5;28minput\u001b[39m, config, \u001b[38;5;241m*\u001b[39m\u001b[38;5;241m*\u001b[39mkwargs)\n\u001b[1;32m    386\u001b[0m         \u001b[38;5;28;01melse\u001b[39;00m:\n\u001b[0;32m--> 387\u001b[0m             \u001b[38;5;28minput\u001b[39m \u001b[38;5;241m=\u001b[39m context\u001b[38;5;241m.\u001b[39mrun(step\u001b[38;5;241m.\u001b[39minvoke, \u001b[38;5;28minput\u001b[39m, config)\n\u001b[1;32m    388\u001b[0m \u001b[38;5;66;03m# finish the root run\u001b[39;00m\n\u001b[1;32m    389\u001b[0m \u001b[38;5;28;01mexcept\u001b[39;00m \u001b[38;5;167;01mBaseException\u001b[39;00m \u001b[38;5;28;01mas\u001b[39;00m e:\n",
            "File \u001b[0;32m~/anaconda3/envs/aie3/lib/python3.11/site-packages/langgraph/utils/runnable.py:167\u001b[0m, in \u001b[0;36mRunnableCallable.invoke\u001b[0;34m(self, input, config, **kwargs)\u001b[0m\n\u001b[1;32m    165\u001b[0m \u001b[38;5;28;01melse\u001b[39;00m:\n\u001b[1;32m    166\u001b[0m     context\u001b[38;5;241m.\u001b[39mrun(_set_config_context, config)\n\u001b[0;32m--> 167\u001b[0m     ret \u001b[38;5;241m=\u001b[39m \u001b[43mcontext\u001b[49m\u001b[38;5;241;43m.\u001b[39;49m\u001b[43mrun\u001b[49m\u001b[43m(\u001b[49m\u001b[38;5;28;43mself\u001b[39;49m\u001b[38;5;241;43m.\u001b[39;49m\u001b[43mfunc\u001b[49m\u001b[43m,\u001b[49m\u001b[43m \u001b[49m\u001b[38;5;28;43minput\u001b[39;49m\u001b[43m,\u001b[49m\u001b[43m \u001b[49m\u001b[38;5;241;43m*\u001b[39;49m\u001b[38;5;241;43m*\u001b[39;49m\u001b[43mkwargs\u001b[49m\u001b[43m)\u001b[49m\n\u001b[1;32m    168\u001b[0m \u001b[38;5;28;01mif\u001b[39;00m \u001b[38;5;28misinstance\u001b[39m(ret, Runnable) \u001b[38;5;129;01mand\u001b[39;00m \u001b[38;5;28mself\u001b[39m\u001b[38;5;241m.\u001b[39mrecurse:\n\u001b[1;32m    169\u001b[0m     \u001b[38;5;28;01mreturn\u001b[39;00m ret\u001b[38;5;241m.\u001b[39minvoke(\u001b[38;5;28minput\u001b[39m, config)\n",
            "File \u001b[0;32m~/anaconda3/envs/aie3/lib/python3.11/site-packages/langgraph/graph/graph.py:93\u001b[0m, in \u001b[0;36mBranch._route\u001b[0;34m(self, input, config, reader, writer)\u001b[0m\n\u001b[1;32m     91\u001b[0m \u001b[38;5;28;01melse\u001b[39;00m:\n\u001b[1;32m     92\u001b[0m     value \u001b[38;5;241m=\u001b[39m \u001b[38;5;28minput\u001b[39m\n\u001b[0;32m---> 93\u001b[0m result \u001b[38;5;241m=\u001b[39m \u001b[38;5;28;43mself\u001b[39;49m\u001b[38;5;241;43m.\u001b[39;49m\u001b[43mpath\u001b[49m\u001b[38;5;241;43m.\u001b[39;49m\u001b[43minvoke\u001b[49m\u001b[43m(\u001b[49m\u001b[43mvalue\u001b[49m\u001b[43m,\u001b[49m\u001b[43m \u001b[49m\u001b[43mconfig\u001b[49m\u001b[43m)\u001b[49m\n\u001b[1;32m     94\u001b[0m \u001b[38;5;28;01mreturn\u001b[39;00m \u001b[38;5;28mself\u001b[39m\u001b[38;5;241m.\u001b[39m_finish(writer, \u001b[38;5;28minput\u001b[39m, result, config)\n",
            "File \u001b[0;32m~/anaconda3/envs/aie3/lib/python3.11/site-packages/langgraph/utils/runnable.py:159\u001b[0m, in \u001b[0;36mRunnableCallable.invoke\u001b[0;34m(self, input, config, **kwargs)\u001b[0m\n\u001b[1;32m    157\u001b[0m     context \u001b[38;5;241m=\u001b[39m copy_context()\n\u001b[1;32m    158\u001b[0m     context\u001b[38;5;241m.\u001b[39mrun(_set_config_context, child_config)\n\u001b[0;32m--> 159\u001b[0m     ret \u001b[38;5;241m=\u001b[39m \u001b[43mcontext\u001b[49m\u001b[38;5;241;43m.\u001b[39;49m\u001b[43mrun\u001b[49m\u001b[43m(\u001b[49m\u001b[38;5;28;43mself\u001b[39;49m\u001b[38;5;241;43m.\u001b[39;49m\u001b[43mfunc\u001b[49m\u001b[43m,\u001b[49m\u001b[43m \u001b[49m\u001b[38;5;28;43minput\u001b[39;49m\u001b[43m,\u001b[49m\u001b[43m \u001b[49m\u001b[38;5;241;43m*\u001b[39;49m\u001b[38;5;241;43m*\u001b[39;49m\u001b[43mkwargs\u001b[49m\u001b[43m)\u001b[49m\n\u001b[1;32m    160\u001b[0m \u001b[38;5;28;01mexcept\u001b[39;00m \u001b[38;5;167;01mBaseException\u001b[39;00m \u001b[38;5;28;01mas\u001b[39;00m e:\n\u001b[1;32m    161\u001b[0m     run_manager\u001b[38;5;241m.\u001b[39mon_chain_error(e)\n",
            "Cell \u001b[0;32mIn[169], line 28\u001b[0m, in \u001b[0;36mshould_continue\u001b[0;34m(state)\u001b[0m\n\u001b[1;32m     26\u001b[0m last_message \u001b[38;5;241m=\u001b[39m messages[\u001b[38;5;241m-\u001b[39m\u001b[38;5;241m1\u001b[39m]\n\u001b[1;32m     27\u001b[0m \u001b[38;5;66;03m# If the LLM makes a tool call, then we route to the \"tools\" node\u001b[39;00m\n\u001b[0;32m---> 28\u001b[0m \u001b[38;5;28;01mif\u001b[39;00m \u001b[43mlast_message\u001b[49m\u001b[38;5;241;43m.\u001b[39;49m\u001b[43mtool_calls\u001b[49m:\n\u001b[1;32m     29\u001b[0m     \u001b[38;5;28;01mreturn\u001b[39;00m \u001b[38;5;124m\"\u001b[39m\u001b[38;5;124mtools\u001b[39m\u001b[38;5;124m\"\u001b[39m\n\u001b[1;32m     30\u001b[0m \u001b[38;5;66;03m# If the last message is from the model and doesn't have tool calls, we end\u001b[39;00m\n",
            "File \u001b[0;32m~/anaconda3/envs/aie3/lib/python3.11/site-packages/pydantic/main.py:856\u001b[0m, in \u001b[0;36mBaseModel.__getattr__\u001b[0;34m(self, item)\u001b[0m\n\u001b[1;32m    853\u001b[0m     \u001b[38;5;28;01mreturn\u001b[39;00m \u001b[38;5;28msuper\u001b[39m()\u001b[38;5;241m.\u001b[39m\u001b[38;5;21m__getattribute__\u001b[39m(item)  \u001b[38;5;66;03m# Raises AttributeError if appropriate\u001b[39;00m\n\u001b[1;32m    854\u001b[0m \u001b[38;5;28;01melse\u001b[39;00m:\n\u001b[1;32m    855\u001b[0m     \u001b[38;5;66;03m# this is the current error\u001b[39;00m\n\u001b[0;32m--> 856\u001b[0m     \u001b[38;5;28;01mraise\u001b[39;00m \u001b[38;5;167;01mAttributeError\u001b[39;00m(\u001b[38;5;124mf\u001b[39m\u001b[38;5;124m'\u001b[39m\u001b[38;5;132;01m{\u001b[39;00m\u001b[38;5;28mtype\u001b[39m(\u001b[38;5;28mself\u001b[39m)\u001b[38;5;241m.\u001b[39m\u001b[38;5;18m__name__\u001b[39m\u001b[38;5;132;01m!r}\u001b[39;00m\u001b[38;5;124m object has no attribute \u001b[39m\u001b[38;5;132;01m{\u001b[39;00mitem\u001b[38;5;132;01m!r}\u001b[39;00m\u001b[38;5;124m'\u001b[39m)\n",
            "\u001b[0;31mAttributeError\u001b[0m: 'FunctionMessage' object has no attribute 'tool_calls'"
          ]
        }
      ],
      "source": [
        "import pprint\n",
        "checkpointer = MemorySaver()\n",
        "graph = workflow.compile(checkpointer=checkpointer)\n",
        "config = {\"configurable\": {\"thread_id\": \"1\"},\n",
        "          \"recursion_limit\": 50 }\n",
        "\n",
        "input_prompt = \"\"\" where the hallucination is more harmful?\n",
        "\"\"\"\n",
        "\n",
        "# Run the graph\n",
        "graph.invoke(\n",
        "    {\"messages\": [HumanMessage(content=input_prompt)]}, config)"
      ]
    },
    {
      "cell_type": "markdown",
      "metadata": {
        "id": "uxemEPyWIMg1"
      },
      "source": [
        "# Results"
      ]
    },
    {
      "cell_type": "code",
      "execution_count": 153,
      "metadata": {
        "id": "dXz-yobWGP7V"
      },
      "outputs": [],
      "source": [
        "import pprint\n",
        "\n",
        "input_prompt = \"\"\"You are an AI assistant tasked with creating a proposal for a new weight loss drug to pitch to Bausch Health.\n",
        "Use the Tavily search tool to gather information about Bausch Health and the pharmaceutical industry.\n",
        "\n",
        "Your proposal should include:\n",
        "1. Executive Summary\n",
        "2. Company Overview (Bausch Health)\n",
        "3. Product Description\n",
        "4. Market Analysis\n",
        "5. Marketing Strategy\n",
        "6. Financial Projections\n",
        "   - Include estimated production costs\n",
        "   - Projected sales and revenue\n",
        "7. Conclusion\n",
        "\n",
        "Ensure your proposal is well-structured, informative, and persuasive.\n",
        "\"\"\"\n",
        "\n",
        "# Run the graph\n",
        "final_state = graph.invoke(\n",
        "    {\"messages\": [HumanMessage(content=input_prompt)]},\n",
        "    config={\"configurable\": {\"thread_id\": 42}}\n",
        ")"
      ]
    },
    {
      "cell_type": "code",
      "execution_count": 154,
      "metadata": {
        "colab": {
          "base_uri": "https://localhost:8080/"
        },
        "id": "TpxLT8RRHLQc",
        "outputId": "ae6d0294-e0a5-43d1-b1a9-7179a438f155"
      },
      "outputs": [
        {
          "name": "stdout",
          "output_type": "stream",
          "text": [
            "### Proposal for a New Weight Loss Drug to Bausch Health\n",
            "\n",
            "#### 1. Executive Summary\n",
            "This proposal outlines the development and market introduction of a new weight loss drug by Bausch Health. The drug aims to address the growing demand for effective weight management solutions. This document includes a comprehensive overview of Bausch Health, a detailed product description, market analysis, marketing strategy, financial projections, and a conclusion.\n",
            "\n",
            "#### 2. Company Overview (Bausch Health)\n",
            "Bausch Health Companies Inc. is a global, diversified pharmaceutical company headquartered in Laval, Canada. The company develops, manufactures, and markets a wide range of products in various therapeutic areas, including gastroenterology, hepatology, neurology, dermatology, and eye health. Bausch Health is committed to improving patients' lives by delivering innovative and effective health solutions.\n",
            "\n",
            "#### 3. Product Description\n",
            "The proposed weight loss drug is designed to aid in significant weight reduction by targeting metabolic pathways that regulate appetite and fat storage. The drug will be available in oral form and is expected to show efficacy in clinical trials, with minimal side effects. It will be positioned as a prescription medication for individuals struggling with obesity and related health conditions.\n",
            "\n",
            "#### 4. Market Analysis\n",
            "The weight loss drugs market was valued at approximately USD 231.53 billion in 2022 and is projected to grow to USD 347.3 billion by 2032, with a CAGR of 4.14%. The increasing prevalence of obesity and related health issues, along with a growing awareness of the importance of weight management, are key drivers of this market. Competitors like Wegovy, Ozempic, and Saxenda are gaining momentum, indicating a strong market demand for effective weight loss solutions.\n",
            "\n",
            "#### 5. Marketing Strategy\n",
            "Our marketing strategy will focus on differentiating our product through its clinical effectiveness and safety profile. Key elements include:\n",
            "- **Target Audience**: Medical professionals, patients with obesity, and healthcare providers.\n",
            "- **Channels**: Digital marketing, medical journals, conferences, and direct engagement with healthcare providers.\n",
            "- **Value Proposition**: Emphasizing the drug's unique mechanism of action, superior efficacy, and safety compared to existing treatments.\n",
            "- **Technological Integration**: Utilizing AI and virtual reality for patient education and engagement.\n",
            "\n",
            "#### 6. Financial Projections\n",
            "- **Estimated Production Costs**: The production cost for the new drug will include expenses for raw materials, formulation, packaging, and a 10% profit margin. Based on industry standards, the cost of production is expected to be competitive.\n",
            "- **Projected Sales and Revenue**: \n",
            "  - **Year 1**: $50 million\n",
            "  - **Year 2**: $100 million\n",
            "  - **Year 3**: $200 million\n",
            "  - **Year 4**: $300 million\n",
            "  - **Year 5**: $400 million\n",
            "These projections are based on market growth rates and the anticipated adoption of the drug by healthcare providers and patients.\n",
            "\n",
            "#### 7. Conclusion\n",
            "The introduction of a new weight loss drug by Bausch Health presents a significant opportunity to capture a substantial share of the growing weight loss market. With a strong company reputation, innovative product, and strategic marketing plan, Bausch Health is well-positioned to make a meaningful impact on the lives of individuals struggling with obesity. This proposal outlines a clear path to success, ensuring both financial growth and improved health outcomes for patients.\n"
          ]
        }
      ],
      "source": [
        "print(final_state[\"messages\"][-1].content)"
      ]
    },
    {
      "cell_type": "code",
      "execution_count": null,
      "metadata": {
        "id": "-QG-0M-cJXGg"
      },
      "outputs": [],
      "source": []
    }
  ],
  "metadata": {
    "colab": {
      "provenance": []
    },
    "kernelspec": {
      "display_name": "Python 3",
      "name": "python3"
    },
    "language_info": {
      "codemirror_mode": {
        "name": "ipython",
        "version": 3
      },
      "file_extension": ".py",
      "mimetype": "text/x-python",
      "name": "python",
      "nbconvert_exporter": "python",
      "pygments_lexer": "ipython3",
      "version": "3.11.10"
    }
  },
  "nbformat": 4,
  "nbformat_minor": 0
}
